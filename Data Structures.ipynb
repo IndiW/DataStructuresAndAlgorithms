{
 "cells": [
  {
   "cell_type": "code",
   "execution_count": 224,
   "metadata": {},
   "outputs": [],
   "source": [
    "#Linked list Node\n",
    "class Node:\n",
    "    def __init__(self,data):\n",
    "        self.val = data\n",
    "        self.next = None\n",
    "    def __str__(self):\n",
    "        return str(self.val) + \"->\" + str(self.next)\n",
    "    \n"
   ]
  },
  {
   "cell_type": "code",
   "execution_count": 225,
   "metadata": {},
   "outputs": [],
   "source": [
    "class singleLinkedList:\n",
    "    def __init__(self,head):\n",
    "        self.head = head\n",
    "                 \n",
    "    def __str__(self):\n",
    "        return str(self.head)\n",
    "\n",
    "    #Adds node to end of list\n",
    "    #Runtime: O(n)\n",
    "    def addNodeToEnd(self,NewNode):\n",
    "        current = self.head\n",
    "        while current.next != None:\n",
    "            current = current.next\n",
    "        current.next = NewNode\n",
    "\n",
    "    #Remove node at index i\n",
    "    #Runtime O(n)\n",
    "    def removeNodeAtIndex(self,index: int):\n",
    "        current = self.head\n",
    "        if index == 0:\n",
    "            self.head = self.head.next\n",
    "            return 1\n",
    "        while index > 1:\n",
    "            if current.next == None:\n",
    "                return 0\n",
    "            current = current.next\n",
    "            index -= 1\n",
    "        temp = current.next.next\n",
    "        current.next = temp\n",
    "        return 1\n",
    "    \n",
    "    def numberOfNodes(self):\n",
    "        current = self.head\n",
    "        count = 1\n",
    "        while current.next != None:\n",
    "            current = current.next\n",
    "            count += 1\n",
    "        return count"
   ]
  },
  {
   "cell_type": "code",
   "execution_count": 226,
   "metadata": {},
   "outputs": [],
   "source": [
    "def convertListToLinkedList(elements):\n",
    "    curr = x = Node(elements[0])\n",
    "    for i in elements[1:]:\n",
    "        curr.next = Node(i)\n",
    "        curr = curr.next\n",
    "    return singleLinkedList(x)"
   ]
  },
  {
   "cell_type": "code",
   "execution_count": 230,
   "metadata": {},
   "outputs": [
    {
     "name": "stdout",
     "output_type": "stream",
     "text": [
      "4->5->6->None\n",
      "3\n",
      "2->5->1->4->None\n",
      "4\n"
     ]
    }
   ],
   "source": [
    "x = Node(4)\n",
    "y = Node(5)\n",
    "z = Node(6)\n",
    "\n",
    "y.next = z\n",
    "x.next = y\n",
    "w = Node(2)\n",
    "\n",
    "l = singleLinkedList(x)\n",
    "print(l)\n",
    "print(l.numberOfNodes())\n",
    "\n",
    "elements = [2,5,1,4]\n",
    "test = convertListToLinkedList(elements)\n",
    "print(test)\n",
    "print(test.numberOfNodes())\n",
    "    \n"
   ]
  },
  {
   "cell_type": "code",
   "execution_count": 228,
   "metadata": {},
   "outputs": [],
   "source": [
    "class double_Node:\n",
    "    def __init__(self,data):\n",
    "        self.val = data\n",
    "        self.next = None\n",
    "        self.prev = None"
   ]
  },
  {
   "cell_type": "code",
   "execution_count": null,
   "metadata": {},
   "outputs": [],
   "source": [
    "#Stack \n",
    "class Stack:\n",
    "    def __init__(self)"
   ]
  }
 ],
 "metadata": {
  "kernelspec": {
   "display_name": "Python 3",
   "language": "python",
   "name": "python3"
  },
  "language_info": {
   "codemirror_mode": {
    "name": "ipython",
    "version": 3
   },
   "file_extension": ".py",
   "mimetype": "text/x-python",
   "name": "python",
   "nbconvert_exporter": "python",
   "pygments_lexer": "ipython3",
   "version": "3.6.9"
  }
 },
 "nbformat": 4,
 "nbformat_minor": 2
}
