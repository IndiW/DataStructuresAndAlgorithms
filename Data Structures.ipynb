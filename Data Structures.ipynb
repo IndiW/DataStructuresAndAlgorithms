{
 "cells": [
  {
   "cell_type": "code",
   "execution_count": 21,
   "metadata": {},
   "outputs": [],
   "source": [
    "#Linked list Node\n",
    "class Node:\n",
    "    def __init__(self,data):\n",
    "        self.val = data\n",
    "        self.next = None\n",
    "    def __str__(self):\n",
    "        return str(self.val) + \"->\" + str(self.next)"
   ]
  },
  {
   "cell_type": "code",
   "execution_count": 22,
   "metadata": {},
   "outputs": [],
   "source": [
    "#Adds node to end of list\n",
    "def addNodeToEnd(head, NewNode):\n",
    "    current = head\n",
    "    while current.next != None:\n",
    "        current = current.next\n",
    "    current.next = NewNode\n",
    "    "
   ]
  },
  {
   "cell_type": "code",
   "execution_count": 23,
   "metadata": {},
   "outputs": [
    {
     "name": "stdout",
     "output_type": "stream",
     "text": [
      "4->5->None\n",
      "4->5->6->None\n"
     ]
    }
   ],
   "source": [
    "x = Node(4)\n",
    "y = Node(5)\n",
    "z = Node(6)\n",
    "\n",
    "x.next = y\n",
    "print(x)\n",
    "addNodeToEnd(x,z)\n",
    "print(x)\n",
    "\n"
   ]
  }
 ],
 "metadata": {
  "kernelspec": {
   "display_name": "Python 3",
   "language": "python",
   "name": "python3"
  },
  "language_info": {
   "codemirror_mode": {
    "name": "ipython",
    "version": 3
   },
   "file_extension": ".py",
   "mimetype": "text/x-python",
   "name": "python",
   "nbconvert_exporter": "python",
   "pygments_lexer": "ipython3",
   "version": "3.6.9"
  }
 },
 "nbformat": 4,
 "nbformat_minor": 2
}
