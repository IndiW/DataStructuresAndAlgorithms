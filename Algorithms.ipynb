{
 "cells": [
  {
   "cell_type": "code",
   "execution_count": 48,
   "metadata": {},
   "outputs": [
    {
     "data": {
      "image/png": "[encoded data removed]",
      "text/plain": [
       "<Figure size 432x288 with 1 Axes>"
      ]
     },
     "metadata": {},
     "output_type": "display_data"
    }
   ],
   "source": [
    "import networkx as nx\n",
    "import matplotlib.pyplot as plt\n",
    "\n",
    "G = nx.Graph()\n",
    "G.add_nodes_from([2,3,4,5])\n",
    "#G.nodes\n",
    "\n",
    "G.add_edges_from([(2,4),(4,5),(1,3),(3,5),(4,6),(3,7),(2,6),(7,5),(0,1),(0,4)])\n",
    "\n",
    "nx.draw(G, with_labels=True, node_color=\"lightblue\",edge_color=\"gray\")\n",
    "plt.show()"
   ]
  },
  {
   "cell_type": "code",
   "execution_count": 49,
   "metadata": {},
   "outputs": [],
   "source": [
    "class DepthFirstSearch:\n",
    "    def __init__(self,G,s):\n",
    "        self.marked = [False] * G.number_of_nodes()\n",
    "        self.edgeTo=[None] * G.number_of_nodes()\n",
    "        self.s = s\n",
    "        self.dfs(G,s)\n",
    "    \n",
    "    def dfs(self, G, v):\n",
    "        self.marked[v] = True\n",
    "        for w in G.neighbors(v):\n",
    "            if not self.marked[w]:\n",
    "                self.edgeTo[w] = v\n",
    "                self.dfs(G, w)\n",
    "                \n",
    "\n",
    "    def hasPathTo(self, v):\n",
    "        return self.marked[v]\n",
    "\n",
    "    def pathTo(self, v):\n",
    "        if not self.hasPathTo(v):\n",
    "            return None\n",
    "        path = []\n",
    "        x = v\n",
    "        while x != self.s:\n",
    "            path.append(x)\n",
    "            x = self.edgeTo[x]\n",
    "        path.append(self.s)\n",
    "        return path    "
   ]
  },
  {
   "cell_type": "code",
   "execution_count": 54,
   "metadata": {},
   "outputs": [
    {
     "data": {
      "text/plain": [
       "[3, 5, 4, 2]"
      ]
     },
     "execution_count": 54,
     "metadata": {},
     "output_type": "execute_result"
    }
   ],
   "source": [
    "dfs = DepthFirstSearch(G,2)\n",
    "dfs.pathTo(3)"
   ]
  },
  {
   "cell_type": "code",
   "execution_count": 51,
   "metadata": {},
   "outputs": [],
   "source": [
    "from collections import deque\n",
    "class BreadthFirstPaths:\n",
    "    def __init__(self, G, s):\n",
    "        self.marked = [False] * G.number_of_nodes()\n",
    "        self.edgeTo = [None] * G.number_of_nodes()\n",
    "        self.s = s\n",
    "        self.bfs(G,s)\n",
    "    \n",
    "    def bfs(self, G, s):\n",
    "        queue = deque()\n",
    "        self.marked[s] = True\n",
    "        queue.append(s)\n",
    "        while len(queue) != 0:\n",
    "            v = queue.popleft()\n",
    "            for w in G.neighbors(v):\n",
    "                if not self.marked[w]:\n",
    "                    self.edgeTo[w] = v\n",
    "                    self.marked[w] = True\n",
    "                    queue.append(w)\n",
    "                \n",
    "    def hasPathTo(self, v):\n",
    "        return self.marked[v]\n",
    "\n",
    "    def pathTo(self, v):\n",
    "        if not self.hasPathTo(v):\n",
    "            return None\n",
    "        path = []\n",
    "        x = v\n",
    "        while x != self.s:\n",
    "            path.append(x)\n",
    "            x = self.edgeTo[x]\n",
    "        path.append(self.s)\n",
    "        return path "
   ]
  },
  {
   "cell_type": "code",
   "execution_count": 53,
   "metadata": {},
   "outputs": [
    {
     "data": {
      "text/plain": [
       "[3, 5, 4, 2]"
      ]
     },
     "execution_count": 53,
     "metadata": {},
     "output_type": "execute_result"
    }
   ],
   "source": [
    "bfs = BreadthFirstPaths(G, 2)\n",
    "\n",
    "bfs.pathTo(3)"
   ]
  },
  {
   "cell_type": "code",
   "execution_count": null,
   "metadata": {},
   "outputs": [],
   "source": []
  },
  {
   "cell_type": "code",
   "execution_count": null,
   "metadata": {},
   "outputs": [],
   "source": []
  }
 ],
 "metadata": {
  "kernelspec": {
   "display_name": "Python 3",
   "language": "python",
   "name": "python3"
  },
  "language_info": {
   "codemirror_mode": {
    "name": "ipython",
    "version": 3
   },
   "file_extension": ".py",
   "mimetype": "text/x-python",
   "name": "python",
   "nbconvert_exporter": "python",
   "pygments_lexer": "ipython3",
   "version": "3.6.9"
  }
 },
 "nbformat": 4,
 "nbformat_minor": 2
}
